{
 "cells": [
  {
   "cell_type": "markdown",
   "metadata": {
    "id": "MNF5-qJ7B0Q3"
   },
   "source": [
    "# Testing Stable Baselines3 with gym-MiniGrid"
   ]
  },
  {
   "cell_type": "markdown",
   "metadata": {
    "id": "AdM2FnEJB0Q8"
   },
   "source": [
    "## Basic Jupyter Setting"
   ]
  },
  {
   "cell_type": "code",
   "execution_count": 33,
   "metadata": {
    "executionInfo": {
     "elapsed": 319,
     "status": "ok",
     "timestamp": 1647123362972,
     "user": {
      "displayName": "Iñigo",
      "photoUrl": "https://lh3.googleusercontent.com/a/default-user=s64",
      "userId": "14378798962183195551"
     },
     "user_tz": -60
    },
    "id": "aycUmr6OB0Q8"
   },
   "outputs": [
    {
     "name": "stdout",
     "output_type": "stream",
     "text": [
      "The autoreload extension is already loaded. To reload it, use:\n",
      "  %reload_ext autoreload\n"
     ]
    }
   ],
   "source": [
    "import numpy as np\n",
    "import matplotlib.pyplot as plt\n",
    "from pprint import pprint\n",
    "\n",
    "%matplotlib inline\n",
    "plt.rcParams['figure.figsize'] = (10.0, 8.0) # set default size of plots\n",
    "plt.rcParams['image.interpolation'] = 'nearest'\n",
    "plt.rcParams['image.cmap'] = 'gray'\n",
    "\n",
    "# for auto-reloading external modules\n",
    "# see http://stackoverflow.com/questions/1907993/autoreload-of-modules-in-ipython\n",
    "%load_ext autoreload\n",
    "%autoreload 2"
   ]
  },
  {
   "cell_type": "markdown",
   "metadata": {
    "id": "ef0DdE0b4pLd"
   },
   "source": [
    "## Initial set-up"
   ]
  },
  {
   "cell_type": "markdown",
   "metadata": {
    "id": "PLM4YYcL5rBt"
   },
   "source": [
    "Import libraries and classes:"
   ]
  },
  {
   "cell_type": "code",
   "execution_count": 34,
   "metadata": {
    "id": "YgenDMtf4pLe"
   },
   "outputs": [],
   "source": [
    "# Imports\n",
    "import time\n",
    "import io\n",
    "import os\n",
    "import glob\n",
    "import torch\n",
    "import base64\n",
    "# import stable_baselines3\n",
    "\n",
    "import numpy as np\n",
    "import matplotlib.pyplot as plt\n",
    "\n",
    "from random import randint \n",
    "# from stable_baselines3 import PPO, DQN, A2C\n",
    "# from stable_baselines3.common.results_plotter import ts2xy, load_results\n",
    "# from stable_baselines3.common.callbacks import EvalCallback, StopTrainingOnRewardThreshold\n",
    "# from stable_baselines3.common.env_util import make_atari_env\n",
    "# from stable_baselines3.common.evaluation import evaluate_policy\n",
    "# from stable_baselines3.common.utils import set_random_seed\n",
    "# from stable_baselines3.common.vec_env import SubprocVecEnv, DummyVecEnv\n",
    "# from stable_baselines3.common.env_util import make_vec_env\n",
    "\n",
    "import gym\n",
    "from gym import spaces\n",
    "from gym.wrappers import Monitor\n",
    "import gym_minigrid\n",
    "from gym_minigrid.wrappers import FlatObsWrapper, ImgObsWrapper, RGBImgPartialObsWrapper"
   ]
  },
  {
   "cell_type": "markdown",
   "metadata": {},
   "source": [
    "Define wrapper for CNN Policy"
   ]
  },
  {
   "cell_type": "code",
   "execution_count": 35,
   "metadata": {},
   "outputs": [],
   "source": [
    "def ImgRGBImgPartialObsWrapper(env):\n",
    "    return ImgObsWrapper(RGBImgPartialObsWrapper(env))"
   ]
  },
  {
   "cell_type": "markdown",
   "metadata": {
    "id": "28U_WEp25rBu"
   },
   "source": [
    "Define the video function:"
   ]
  },
  {
   "cell_type": "code",
   "execution_count": 88,
   "metadata": {
    "id": "d7eCH8Kf4pLf"
   },
   "outputs": [],
   "source": [
    "import base64\n",
    "import glob\n",
    "import io\n",
    "from IPython.display import HTML\n",
    "from IPython import display \n",
    "\n",
    "# video = io.open('./video/openaigym.video.%s.video000000.mp4' % env.file_infix, 'r+b').read()\n",
    "# encoded = base64.b64encode(video)\n",
    "# HTML(data='''\n",
    "#     <video width=\"360\" height=\"auto\" alt=\"test\" controls><source src=\"data:video/mp4;base64,{0}\" type=\"video/mp4\" /></video>'''\n",
    "# .format(encoded.decode('ascii')))\n",
    "\n",
    "def show_video():\n",
    "    mp4list = glob.glob('video/*.mp4')\n",
    "    if len(mp4list) > 0:\n",
    "        mp4 = mp4list[0]\n",
    "        video = io.open(mp4, 'r+b').read()\n",
    "        encoded = base64.b64encode(video)\n",
    "        display.display(HTML(data='''<video alt=\"test\" autoplay \n",
    "                loop controls style=\"height: 400px;\">\n",
    "                <source src=\"data:video/mp4;base64,{0}\" type=\"video/mp4\" />\n",
    "             </video>'''.format(encoded.decode('ascii'))))\n",
    "    else:\n",
    "        print(\"Could not find video\")\n",
    "        \n",
    "def show_animation():\n",
    "    giflist = glob.glob('animation/*.gif')\n",
    "    if len(giflist) > 0:\n",
    "        gif_path = giflist[0]\n",
    "        b64 = base64.b64encode(open(gif_path,'rb').read()).decode('ascii')\n",
    "        display.display(HTML(f'<img src=\"data:image/gif;base64,{b64}\" height=\"400\" />'))\n",
    "    else:\n",
    "        print(\"Could not find animation\")"
   ]
  },
  {
   "cell_type": "markdown",
   "metadata": {
    "id": "KchGuXpd5rBv"
   },
   "source": [
    "Define the rendering wrappers:"
   ]
  },
  {
   "cell_type": "code",
   "execution_count": 68,
   "metadata": {
    "id": "Gdhk3Oep4pLf"
   },
   "outputs": [],
   "source": [
    "from gym.wrappers import Monitor\n",
    "\n",
    "# Monitor is a gym wrapper, which helps easy rendering of videos of the wrapped environment.\n",
    "def wrap_env(env):\n",
    "    env = Monitor(env, './video', force=True)\n",
    "    return env\n",
    "\n",
    "def gen_wrapped_env(env_name):\n",
    "    return wrap_env(FlatObsWrapper(gym.make(env_name)))\n",
    "\n",
    "def gen_wrapped_env_cnn(env_name):\n",
    "    return wrap_env(ImgObsWrapper(RGBImgPartialObsWrapper(gym.make(env_name))))"
   ]
  },
  {
   "cell_type": "code",
   "execution_count": 7,
   "metadata": {
    "colab": {
     "base_uri": "https://localhost:8080/",
     "height": 269
    },
    "executionInfo": {
     "elapsed": 900,
     "status": "ok",
     "timestamp": 1647083269049,
     "user": {
      "displayName": "Iñigo",
      "photoUrl": "https://lh3.googleusercontent.com/a/default-user=s64",
      "userId": "14378798962183195551"
     },
     "user_tz": -60
    },
    "id": "B21JwGYn5rBv",
    "outputId": "54dfa526-2621-4f91-df2b-e4ff7a447aad"
   },
   "outputs": [
    {
     "data": {
      "image/png": "[encoded data removed]",
      "text/plain": [
       "<Figure size 1000x800 with 1 Axes>"
      ]
     },
     "metadata": {},
     "output_type": "display_data"
    }
   ],
   "source": [
    "from random import randint\n",
    "#env_id = 'MiniGrid-Empty-16x16-v0'\n",
    "env_id = 'MiniGrid-DoorKey-6x6-v0'\n",
    "#env_id = 'MiniGrid-DistShift1-v0'\n",
    "#env_id ='MiniGrid-UnlockPickup-v0'\n",
    "#env_id = 'MiniGrid-RedBlueDoors-6x6-v0'\n",
    "#env_id = 'MiniGrid-LavaGapS6-v0'\n",
    "\n",
    "eval_env = gym.make(env_id)\n",
    "eval_env.seed(10000+randint(0, 10))\n",
    "eval_env.reset()\n",
    "before_img = eval_env.render('rgb_array')\n",
    "\n",
    "plt.imshow(before_img);"
   ]
  },
  {
   "cell_type": "markdown",
   "metadata": {
    "id": "umY09KJP5rCI"
   },
   "source": [
    "# Catastrophic Forgetting"
   ]
  },
  {
   "cell_type": "markdown",
   "metadata": {
    "id": "yPq1XkeL5rCI"
   },
   "source": [
    "## Define the environments"
   ]
  },
  {
   "cell_type": "code",
   "execution_count": 42,
   "metadata": {},
   "outputs": [],
   "source": [
    "import time\n",
    "import datetime\n",
    "import torch\n",
    "import torch_ac\n",
    "import tensorboardX\n",
    "import sys\n",
    "\n",
    "import utils\n",
    "from model import ACModel\n",
    "from torch_ac import DictList"
   ]
  },
  {
   "cell_type": "code",
   "execution_count": 43,
   "metadata": {},
   "outputs": [],
   "source": [
    "## Hyper-parameters\n",
    "args = {\n",
    "# General parameters\n",
    "'algo':'ppo',\n",
    "'env':'MiniGrid-Empty-5x5-v0',\n",
    "'model':'MiniGrid-Empty-5x5-v0_RIM_test',\n",
    "'seed':1,\n",
    "'log_interval':1,\n",
    "'save_interval':10,\n",
    "'procs':16,\n",
    "'frames':80000, # default 1e7\n",
    "# Parameters for main algorithm\n",
    "'epochs':4,\n",
    "'batch_size':256,\n",
    "'frames_per_proc':128, # 128 for PPO and 5 per A2C\n",
    "'discount':0.99,\n",
    "'lr':0.0001,\n",
    "'gae_lambda':0.95, # 1 means no gae\n",
    "'entropy_coef':0.01,\n",
    "'value_loss_coef':0.5,\n",
    "'max_grad_norm':0.5,\n",
    "'optim_eps':1e-8,\n",
    "'optim_alpha':0.99,\n",
    "'clip_eps':0.2,\n",
    "'recurrence':32, # if > 1, a LSTM is added\n",
    "'text':False, # add a GRU for text input\n",
    "# Model Parameters\n",
    "'use_rim':False, # action = 'store_true'\n",
    "}\n",
    "\n",
    "#args = utils.dotdict(args)\n",
    "args = DictList(args)\n",
    "\n",
    "args.mem = args.recurrence > 1"
   ]
  },
  {
   "cell_type": "code",
   "execution_count": 44,
   "metadata": {},
   "outputs": [
    {
     "name": "stdout",
     "output_type": "stream",
     "text": [
      "{'algo': 'ppo', 'env': 'MiniGrid-Empty-5x5-v0', 'model': 'MiniGrid-Empty-5x5-v0_RIM_test', 'seed': 1, 'log_interval': 1, 'save_interval': 10, 'procs': 16, 'frames': 80000, 'epochs': 4, 'batch_size': 256, 'frames_per_proc': 128, 'discount': 0.99, 'lr': 0.0001, 'gae_lambda': 0.95, 'entropy_coef': 0.01, 'value_loss_coef': 0.5, 'max_grad_norm': 0.5, 'optim_eps': 1e-08, 'optim_alpha': 0.99, 'clip_eps': 0.2, 'recurrence': 32, 'text': False, 'use_rim': False, 'mem': True}\n",
      "\n",
      "Device: cpu\n",
      "\n"
     ]
    }
   ],
   "source": [
    "# Set run dir\n",
    "def reshape_reward(obs, action, reward, done):\n",
    "    if not done:\n",
    "        reward = -1\n",
    "    else:\n",
    "        reward = 1\n",
    "    return reward\n",
    "\n",
    "date = datetime.datetime.now().strftime(\"%y-%m-%d-%H-%M-%S\")\n",
    "default_model_name = f\"{args.env}_{args.algo}_seed{args.seed}_{date}\"\n",
    "\n",
    "model_name = args.model or default_model_name\n",
    "model_dir = utils.get_model_dir(model_name)\n",
    "\n",
    "# Load loggers and Tensorboard writer\n",
    "\n",
    "txt_logger = utils.get_txt_logger(model_dir)\n",
    "csv_file, csv_logger = utils.get_csv_logger(model_dir)\n",
    "tb_writer = tensorboardX.SummaryWriter(model_dir)\n",
    "\n",
    "# Log command and all script arguments\n",
    "\n",
    "#txt_logger.info(\"{}\\n\".format(\" \".join(sys.argv)))\n",
    "txt_logger.info(\"{}\\n\".format(args))\n",
    "\n",
    "# Set seed for all randomness sources\n",
    "\n",
    "utils.seed(args.seed)\n",
    "\n",
    "# Set device\n",
    "\n",
    "device = torch.device(\"cuda\" if torch.cuda.is_available() else \"cpu\")\n",
    "txt_logger.info(f\"Device: {device}\\n\")"
   ]
  },
  {
   "cell_type": "code",
   "execution_count": 45,
   "metadata": {},
   "outputs": [
    {
     "name": "stdout",
     "output_type": "stream",
     "text": [
      "Environments loaded\n",
      "\n",
      "Training status loaded\n",
      "\n",
      "Observations preprocessor loaded\n",
      "Model loaded\n",
      "\n",
      "ACModel(\n",
      "  (image_conv): Sequential(\n",
      "    (0): Conv2d(3, 16, kernel_size=(2, 2), stride=(1, 1))\n",
      "    (1): ReLU()\n",
      "    (2): MaxPool2d(kernel_size=(2, 2), stride=(2, 2), padding=0, dilation=1, ceil_mode=False)\n",
      "    (3): Conv2d(16, 32, kernel_size=(2, 2), stride=(1, 1))\n",
      "    (4): ReLU()\n",
      "    (5): Conv2d(32, 64, kernel_size=(2, 2), stride=(1, 1))\n",
      "    (6): ReLU()\n",
      "  )\n",
      "  (memory_rnn): LSTMCell(64, 64)\n",
      "  (actor): Sequential(\n",
      "    (0): Linear(in_features=64, out_features=64, bias=True)\n",
      "    (1): Tanh()\n",
      "    (2): Linear(in_features=64, out_features=7, bias=True)\n",
      "  )\n",
      "  (critic): Sequential(\n",
      "    (0): Linear(in_features=64, out_features=64, bias=True)\n",
      "    (1): Tanh()\n",
      "    (2): Linear(in_features=64, out_features=1, bias=True)\n",
      "  )\n",
      ")\n",
      "\n",
      "Optimizer loaded\n",
      "\n"
     ]
    }
   ],
   "source": [
    "# Load environments\n",
    "\n",
    "envs = []\n",
    "for i in range(args.procs):\n",
    "    envs.append(utils.make_env(args.env, args.seed + 10000 * i))\n",
    "txt_logger.info(\"Environments loaded\\n\")\n",
    "\n",
    "# Load training status\n",
    "\n",
    "try:\n",
    "    status = utils.get_status(model_dir)\n",
    "except OSError:\n",
    "    status = {\"num_frames\": 0, \"update\": 0}\n",
    "txt_logger.info(\"Training status loaded\\n\")\n",
    "\n",
    "# Load observations preprocessor\n",
    "\n",
    "obs_space, preprocess_obss = utils.get_obss_preprocessor(envs[0].observation_space)\n",
    "if \"vocab\" in status:\n",
    "    preprocess_obss.vocab.load_vocab(status[\"vocab\"])\n",
    "txt_logger.info(\"Observations preprocessor loaded\")\n",
    "\n",
    "# Load model\n",
    "\n",
    "acmodel = ACModel(obs_space, envs[0].action_space, args.mem, args.text, args.use_rim)\n",
    "if \"model_state\" in status:\n",
    "    acmodel.load_state_dict(status[\"model_state\"])\n",
    "acmodel.to(device)\n",
    "txt_logger.info(\"Model loaded\\n\")\n",
    "txt_logger.info(\"{}\\n\".format(acmodel))\n",
    "\n",
    "# Load algo\n",
    "\n",
    "if args.algo == \"a2c\":\n",
    "    algo = torch_ac.A2CAlgo(envs, acmodel, device, args.frames_per_proc, args.discount, args.lr, args.gae_lambda,\n",
    "                            args.entropy_coef, args.value_loss_coef, args.max_grad_norm, args.recurrence,\n",
    "                            args.optim_alpha, args.optim_eps, preprocess_obss)\n",
    "elif args.algo == \"ppo\":\n",
    "    algo = torch_ac.PPOAlgo(envs, acmodel, device, args.frames_per_proc, args.discount, args.lr, args.gae_lambda,\n",
    "                            args.entropy_coef, args.value_loss_coef, args.max_grad_norm, args.recurrence,\n",
    "                            args.optim_eps, args.clip_eps, args.epochs, args.batch_size, preprocess_obss)\n",
    "else:\n",
    "    raise ValueError(\"Incorrect algorithm name: {}\".format(args.algo))\n",
    "\n",
    "if \"optimizer_state\" in status:\n",
    "    algo.optimizer.load_state_dict(status[\"optimizer_state\"])\n",
    "txt_logger.info(\"Optimizer loaded\\n\")"
   ]
  },
  {
   "cell_type": "code",
   "execution_count": 46,
   "metadata": {},
   "outputs": [],
   "source": [
    "# Train model\n",
    "\n",
    "num_frames = status[\"num_frames\"]\n",
    "update = status[\"update\"]\n",
    "start_time = time.time()\n",
    "\n",
    "while num_frames < args.frames:\n",
    "    # Update model parameters\n",
    "\n",
    "    update_start_time = time.time()\n",
    "    exps, logs1 = algo.collect_experiences()\n",
    "    logs2 = algo.update_parameters(exps)\n",
    "    logs = {**logs1, **logs2}\n",
    "    update_end_time = time.time()\n",
    "\n",
    "    num_frames += logs[\"num_frames\"]\n",
    "    update += 1\n",
    "\n",
    "    # Print logs\n",
    "\n",
    "    if update % args.log_interval == 0:\n",
    "        fps = logs[\"num_frames\"]/(update_end_time - update_start_time)\n",
    "        duration = int(time.time() - start_time)\n",
    "        return_per_episode = utils.synthesize(logs[\"return_per_episode\"])\n",
    "        rreturn_per_episode = utils.synthesize(logs[\"reshaped_return_per_episode\"])\n",
    "        num_frames_per_episode = utils.synthesize(logs[\"num_frames_per_episode\"])\n",
    "\n",
    "        header = [\"update\", \"frames\", \"FPS\", \"duration\"]\n",
    "        data = [update, num_frames, fps, duration]\n",
    "        header += [\"rreturn_\" + key for key in rreturn_per_episode.keys()]\n",
    "        data += rreturn_per_episode.values()\n",
    "        header += [\"num_frames_\" + key for key in num_frames_per_episode.keys()]\n",
    "        data += num_frames_per_episode.values()\n",
    "        header += [\"entropy\", \"value\", \"policy_loss\", \"value_loss\", \"grad_norm\"]\n",
    "        data += [logs[\"entropy\"], logs[\"value\"], logs[\"policy_loss\"], logs[\"value_loss\"], logs[\"grad_norm\"]]\n",
    "\n",
    "        txt_logger.info(\n",
    "            \"U {} | F {:06} | FPS {:04.0f} | D {} | rR:μσmM {:.2f} {:.2f} {:.2f} {:.2f} | F:μσmM {:.1f} {:.1f} {} {} | H {:.3f} | V {:.3f} | pL {:.3f} | vL {:.3f} | ∇ {:.3f}\"\n",
    "            .format(*data))\n",
    "\n",
    "        header += [\"return_\" + key for key in return_per_episode.keys()]\n",
    "        data += return_per_episode.values()\n",
    "\n",
    "        if status[\"num_frames\"] == 0:\n",
    "            csv_logger.writerow(header)\n",
    "        csv_logger.writerow(data)\n",
    "        csv_file.flush()\n",
    "\n",
    "        for field, value in zip(header, data):\n",
    "            tb_writer.add_scalar(field, value, num_frames)\n",
    "\n",
    "    # Save status\n",
    "\n",
    "    if args.save_interval > 0 and update % args.save_interval == 0:\n",
    "        status = {\"num_frames\": num_frames, \"update\": update,\n",
    "                  \"model_state\": acmodel.state_dict(), \"optimizer_state\": algo.optimizer.state_dict()}\n",
    "        if hasattr(preprocess_obss, \"vocab\"):\n",
    "            status[\"vocab\"] = preprocess_obss.vocab.vocab\n",
    "        utils.save_status(status, model_dir)\n",
    "        txt_logger.info(\"Status saved\")"
   ]
  },
  {
   "cell_type": "markdown",
   "metadata": {},
   "source": [
    "## Evaluate"
   ]
  },
  {
   "cell_type": "code",
   "execution_count": 13,
   "metadata": {},
   "outputs": [],
   "source": [
    "from torch_ac.utils.penv import ParallelEnv\n",
    "\n",
    "## Hyper-parameters\n",
    "args = {\n",
    "# General parameters\n",
    "'env':args.env,\n",
    "'model':args.model,\n",
    "'episodes':100,\n",
    "'seed':1,\n",
    "'procs':16,\n",
    "'argmax':False,\n",
    "'worst_episodes_to_show':10,\n",
    "'use_rim':args.use_rim\n",
    "}\n",
    "\n",
    "args = DictList(args)"
   ]
  },
  {
   "cell_type": "code",
   "execution_count": 14,
   "metadata": {},
   "outputs": [
    {
     "name": "stdout",
     "output_type": "stream",
     "text": [
      "Device: cpu\n",
      "\n",
      "Environments loaded\n",
      "\n",
      "Agent loaded\n",
      "\n"
     ]
    }
   ],
   "source": [
    "# Set seed for all randomness sources\n",
    "\n",
    "utils.seed(args.seed)\n",
    "\n",
    "# Set device\n",
    "\n",
    "device = torch.device(\"cuda\" if torch.cuda.is_available() else \"cpu\")\n",
    "print(f\"Device: {device}\\n\")\n",
    "\n",
    "# Load environments\n",
    "\n",
    "envs = []\n",
    "for i in range(args.procs):\n",
    "    env = utils.make_env(args.env, args.seed + 10000 * i)\n",
    "    envs.append(env)\n",
    "env = ParallelEnv(envs)\n",
    "print(\"Environments loaded\\n\")\n",
    "\n",
    "# Load agent\n",
    "\n",
    "model_dir = utils.get_model_dir(args.model)\n",
    "agent = utils.Agent(env.observation_space, env.action_space, model_dir, device, args.argmax, args.procs, args.use_rim)\n",
    "print(\"Agent loaded\\n\")\n",
    "\n",
    "# Initialize logs\n",
    "\n",
    "logs = {\"num_frames_per_episode\": [], \"return_per_episode\": []}"
   ]
  },
  {
   "cell_type": "code",
   "execution_count": 15,
   "metadata": {},
   "outputs": [
    {
     "name": "stdout",
     "output_type": "stream",
     "text": [
      "Agent run completed\n",
      "\n"
     ]
    }
   ],
   "source": [
    "# Run agent\n",
    "\n",
    "start_time = time.time()\n",
    "\n",
    "obss = env.reset()\n",
    "\n",
    "log_done_counter = 0\n",
    "log_episode_return = torch.zeros(args.procs, device=device)\n",
    "log_episode_num_frames = torch.zeros(args.procs, device=device)\n",
    "\n",
    "while log_done_counter < args.episodes:\n",
    "    actions = agent.get_actions(obss)\n",
    "    obss, rewards, dones, _ = env.step(actions)\n",
    "    agent.analyze_feedbacks(rewards, dones)\n",
    "\n",
    "    log_episode_return += torch.tensor(rewards, device=device, dtype=torch.float)\n",
    "    log_episode_num_frames += torch.ones(args.procs, device=device)\n",
    "\n",
    "    for i, done in enumerate(dones):\n",
    "        if done:\n",
    "            log_done_counter += 1\n",
    "            logs[\"return_per_episode\"].append(log_episode_return[i].item())\n",
    "            logs[\"num_frames_per_episode\"].append(log_episode_num_frames[i].item())\n",
    "\n",
    "    mask = 1 - torch.tensor(dones, device=device, dtype=torch.float)\n",
    "    log_episode_return *= mask\n",
    "    log_episode_num_frames *= mask\n",
    "\n",
    "end_time = time.time()\n",
    "print(\"Agent run completed\\n\")"
   ]
  },
  {
   "cell_type": "code",
   "execution_count": 16,
   "metadata": {},
   "outputs": [
    {
     "name": "stdout",
     "output_type": "stream",
     "text": [
      "F 687.0 | FPS 2457 | D 0 | R:μσmM 0.94 0.02 0.85 0.95 | F:μσmM 6.9 2.0 5.0 17.0\n",
      "\n",
      "10 worst episodes:\n",
      "- episode 56: R=0.847000002861023, F=17.0\n",
      "- episode 51: R=0.8740000128746033, F=14.0\n",
      "- episode 42: R=0.8830000162124634, F=13.0\n",
      "- episode 37: R=0.8920000195503235, F=12.0\n",
      "- episode 19: R=0.9010000228881836, F=11.0\n",
      "- episode 72: R=0.9010000228881836, F=11.0\n",
      "- episode 82: R=0.9010000228881836, F=11.0\n",
      "- episode 89: R=0.9100000262260437, F=10.0\n",
      "- episode 90: R=0.9100000262260437, F=10.0\n",
      "- episode 14: R=0.9190000295639038, F=9.0\n"
     ]
    }
   ],
   "source": [
    "# Print logs\n",
    "\n",
    "num_frames = sum(logs[\"num_frames_per_episode\"])\n",
    "fps = num_frames/(end_time - start_time)\n",
    "duration = int(end_time - start_time)\n",
    "return_per_episode = utils.synthesize(logs[\"return_per_episode\"])\n",
    "num_frames_per_episode = utils.synthesize(logs[\"num_frames_per_episode\"])\n",
    "\n",
    "print(\"F {} | FPS {:.0f} | D {} | R:μσmM {:.2f} {:.2f} {:.2f} {:.2f} | F:μσmM {:.1f} {:.1f} {} {}\"\n",
    "      .format(num_frames, fps, duration,\n",
    "              *return_per_episode.values(),\n",
    "              *num_frames_per_episode.values()))\n",
    "\n",
    "# Print worst episodes\n",
    "\n",
    "n = args.worst_episodes_to_show\n",
    "if n > 0:\n",
    "    print(\"\\n{} worst episodes:\".format(n))\n",
    "\n",
    "    indexes = sorted(range(len(logs[\"return_per_episode\"])), key=lambda k: logs[\"return_per_episode\"][k])\n",
    "    for i in indexes[:n]:\n",
    "        print(\"- episode {}: R={}, F={}\".format(i, logs[\"return_per_episode\"][i], logs[\"num_frames_per_episode\"][i]))"
   ]
  },
  {
   "cell_type": "markdown",
   "metadata": {},
   "source": [
    "## Visualization"
   ]
  },
  {
   "cell_type": "code",
   "execution_count": 100,
   "metadata": {},
   "outputs": [],
   "source": [
    "import array2gif\n",
    "from pathlib import Path\n",
    "import numpy\n",
    "\n",
    "## Hyper-parameters\n",
    "args = {\n",
    "# General parameters\n",
    "'env':args.env,\n",
    "'model':args.model,\n",
    "'seed':1,\n",
    "'shift':0,\n",
    "'argmax':False,\n",
    "'pause':0.1,\n",
    "'gif':args.model,\n",
    "'episodes':5,\n",
    "# Model Parameters\n",
    "'use_rim':args.use_rim\n",
    "}\n",
    "\n",
    "args = DictList(args)"
   ]
  },
  {
   "cell_type": "code",
   "execution_count": 101,
   "metadata": {},
   "outputs": [
    {
     "name": "stdout",
     "output_type": "stream",
     "text": [
      "Device: cpu\n",
      "\n",
      "Environment loaded\n",
      "\n",
      "Agent loaded\n",
      "\n"
     ]
    }
   ],
   "source": [
    "# Set seed for all randomness sources\n",
    "\n",
    "utils.seed(args.seed)\n",
    "\n",
    "# Set device\n",
    "\n",
    "device = torch.device(\"cuda\" if torch.cuda.is_available() else \"cpu\")\n",
    "print(f\"Device: {device}\\n\")\n",
    "\n",
    "# Load environment\n",
    "\n",
    "env = utils.make_env(args.env, args.seed)\n",
    "for _ in range(args.shift):\n",
    "    env.reset()\n",
    "print(\"Environment loaded\\n\")\n",
    "\n",
    "# Load agent\n",
    "\n",
    "model_dir = utils.get_model_dir(args.model)\n",
    "agent = utils.Agent(env.observation_space, env.action_space, model_dir, device, args.argmax, use_rim = args.use_rim)\n",
    "print(\"Agent loaded\\n\")"
   ]
  },
  {
   "cell_type": "code",
   "execution_count": 102,
   "metadata": {},
   "outputs": [],
   "source": [
    "%%capture\n",
    "# Run the agent\n",
    "\n",
    "if args.gif:\n",
    "   from array2gif import write_gif\n",
    "   frames = []\n",
    "\n",
    "# Create a window to view the environment\n",
    "env.render('human')\n",
    "\n",
    "for episode in range(args.episodes):\n",
    "    obs = env.reset()\n",
    "    done2 = False\n",
    "    while True:\n",
    "        env.render('human')\n",
    "        if args.gif:\n",
    "            frames.append(numpy.moveaxis(env.render(\"rgb_array\"), 2, 0))\n",
    "            \n",
    "\n",
    "        action = agent.get_action(obs)\n",
    "        obs, reward, done, _ = env.step(action)\n",
    "        agent.analyze_feedback(reward, done)\n",
    "        \n",
    "        if done or env.window.closed:\n",
    "            if episode == 4:\n",
    "                done2 = True\n",
    "            break\n",
    "    if done2 == True:\n",
    "        env.close()\n",
    "        break\n",
    "    #if env.window.closed:\n",
    "    #    break\n",
    "print('doneeee')\n",
    "if args.gif:\n",
    "    print(\"Saving gif... \", end=\"\")\n",
    "    Path(\"./animation\").mkdir(parents=True, exist_ok=True)\n",
    "    write_gif(numpy.array(frames), \"./animation/\"+args.gif+\".gif\")\n",
    "    print(\"Done.\")"
   ]
  },
  {
   "cell_type": "code",
   "execution_count": 104,
   "metadata": {},
   "outputs": [
    {
     "data": {
      "text/html": [
       "<img src=\"data:image/gif;base64,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\" height=\"400\" />"
      ],
      "text/plain": [
       "<IPython.core.display.HTML object>"
      ]
     },
     "metadata": {},
     "output_type": "display_data"
    }
   ],
   "source": [
    "show_animation()"
   ]
  },
  {
   "cell_type": "code",
   "execution_count": 105,
   "metadata": {},
   "outputs": [
    {
     "name": "stdout",
     "output_type": "stream",
     "text": [
      "Total reward: 0.946\n",
      "Total length: 6\n"
     ]
    },
    {
     "data": {
      "text/html": [
       "<video alt=\"test\" autoplay \n",
       "                loop controls style=\"height: 400px;\">\n",
       "                <source src=\"data:video/mp4;base64,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\" type=\"video/mp4\" />\n",
       "             </video>"
      ],
      "text/plain": [
       "<IPython.core.display.HTML object>"
      ]
     },
     "metadata": {},
     "output_type": "display_data"
    }
   ],
   "source": [
    "test_env = wrap_env(env)\n",
    "observation = test_env.reset()\n",
    "\n",
    "done = False\n",
    "episode_reward = 0\n",
    "episode_length = 0\n",
    "\n",
    "while not done:\n",
    "    action = agent.get_action(observation)\n",
    "    observation, reward, done, info = test_env.step(action)\n",
    "    episode_reward += reward\n",
    "    episode_length += 1\n",
    "\n",
    "print('Total reward:', episode_reward)\n",
    "print('Total length:', episode_length)\n",
    "\n",
    "test_env.close()\n",
    "show_video()"
   ]
  }
 ],
 "metadata": {
  "accelerator": "GPU",
  "colab": {
   "name": "test_minigrid_sb3_curriculum.ipynb",
   "provenance": []
  },
  "kernelspec": {
   "display_name": "tfm-rims",
   "language": "python",
   "name": "tfm-rims"
  },
  "language_info": {
   "codemirror_mode": {
    "name": "ipython",
    "version": 3
   },
   "file_extension": ".py",
   "mimetype": "text/x-python",
   "name": "python",
   "nbconvert_exporter": "python",
   "pygments_lexer": "ipython3",
   "version": "3.7.9"
  },
  "toc-autonumbering": true,
  "toc-showcode": false,
  "toc-showmarkdowntxt": false,
  "toc-showtags": false,
  "vscode": {
   "interpreter": {
    "hash": "d78c29e5a106d8e5aff5a2dd98f2f1ce9953cb30dd1c8e42e77397bf33d62cb1"
   }
  }
 },
 "nbformat": 4,
 "nbformat_minor": 4
}
